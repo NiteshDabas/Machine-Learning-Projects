{
 "cells": [
  {
   "cell_type": "markdown",
   "metadata": {},
   "source": [
    "<h2 align=center>Sentiment Analysis Model for IMDB Movies reviews Using Word2Vec and LSTM"
   ]
  },
  {
   "cell_type": "code",
   "execution_count": 2,
   "metadata": {
    "colab": {
     "base_uri": "https://localhost:8080/"
    },
    "id": "wShkyvoAKHR1",
    "outputId": "61542f62-a634-476f-ab0a-833d5eb943e5"
   },
   "outputs": [
    {
     "name": "stdout",
     "output_type": "stream",
     "text": [
      "[nltk_data] Downloading package stopwords to /root/nltk_data...\n",
      "[nltk_data]   Package stopwords is already up-to-date!\n",
      "[nltk_data] Downloading package punkt to /root/nltk_data...\n",
      "[nltk_data]   Package punkt is already up-to-date!\n"
     ]
    },
    {
     "data": {
      "text/plain": [
       "True"
      ]
     },
     "execution_count": 2,
     "metadata": {
      "tags": []
     },
     "output_type": "execute_result"
    }
   ],
   "source": [
    "import matplotlib.pyplot as plt\n",
    "import pandas as pd\n",
    "import os\n",
    "import numpy as np\n",
    "import nltk\n",
    "import string\n",
    "from gensim.models import Word2Vec\n",
    "from nltk.tokenize import word_tokenize\n",
    "from nltk.corpus import stopwords\n",
    "nltk.download('stopwords')\n",
    "nltk.download('punkt')"
   ]
  },
  {
   "cell_type": "markdown",
   "metadata": {
    "id": "cmF7roHQKHR2"
   },
   "source": [
    "## Loading Data "
   ]
  },
  {
   "cell_type": "code",
   "execution_count": 13,
   "metadata": {
    "colab": {
     "base_uri": "https://localhost:8080/",
     "height": 359
    },
    "id": "Idn89qU5NLwm",
    "outputId": "96e180ac-f349-4ad0-c1e2-b28d45338226"
   },
   "outputs": [
    {
     "data": {
      "text/html": [
       "<div>\n",
       "<style scoped>\n",
       "    .dataframe tbody tr th:only-of-type {\n",
       "        vertical-align: middle;\n",
       "    }\n",
       "\n",
       "    .dataframe tbody tr th {\n",
       "        vertical-align: top;\n",
       "    }\n",
       "\n",
       "    .dataframe thead th {\n",
       "        text-align: right;\n",
       "    }\n",
       "</style>\n",
       "<table border=\"1\" class=\"dataframe\">\n",
       "  <thead>\n",
       "    <tr style=\"text-align: right;\">\n",
       "      <th></th>\n",
       "      <th>review</th>\n",
       "      <th>sentiment</th>\n",
       "    </tr>\n",
       "  </thead>\n",
       "  <tbody>\n",
       "    <tr>\n",
       "      <th>0</th>\n",
       "      <td>I went and saw this movie last night after bei...</td>\n",
       "      <td>1</td>\n",
       "    </tr>\n",
       "    <tr>\n",
       "      <th>1</th>\n",
       "      <td>Actor turned director Bill Paxton follows up h...</td>\n",
       "      <td>1</td>\n",
       "    </tr>\n",
       "    <tr>\n",
       "      <th>2</th>\n",
       "      <td>As a recreational golfer with some knowledge o...</td>\n",
       "      <td>1</td>\n",
       "    </tr>\n",
       "    <tr>\n",
       "      <th>3</th>\n",
       "      <td>I saw this film in a sneak preview, and it is ...</td>\n",
       "      <td>1</td>\n",
       "    </tr>\n",
       "    <tr>\n",
       "      <th>4</th>\n",
       "      <td>Bill Paxton has taken the true story of the 19...</td>\n",
       "      <td>1</td>\n",
       "    </tr>\n",
       "    <tr>\n",
       "      <th>5</th>\n",
       "      <td>I saw this film on September 1st, 2005 in Indi...</td>\n",
       "      <td>1</td>\n",
       "    </tr>\n",
       "    <tr>\n",
       "      <th>6</th>\n",
       "      <td>Maybe I'm reading into this too much, but I wo...</td>\n",
       "      <td>1</td>\n",
       "    </tr>\n",
       "    <tr>\n",
       "      <th>7</th>\n",
       "      <td>I felt this film did have many good qualities....</td>\n",
       "      <td>1</td>\n",
       "    </tr>\n",
       "    <tr>\n",
       "      <th>8</th>\n",
       "      <td>This movie is amazing because the fact that th...</td>\n",
       "      <td>1</td>\n",
       "    </tr>\n",
       "    <tr>\n",
       "      <th>9</th>\n",
       "      <td>\"Quitting\" may be as much about exiting a pre-...</td>\n",
       "      <td>1</td>\n",
       "    </tr>\n",
       "  </tbody>\n",
       "</table>\n",
       "</div>"
      ],
      "text/plain": [
       "                                              review  sentiment\n",
       "0  I went and saw this movie last night after bei...          1\n",
       "1  Actor turned director Bill Paxton follows up h...          1\n",
       "2  As a recreational golfer with some knowledge o...          1\n",
       "3  I saw this film in a sneak preview, and it is ...          1\n",
       "4  Bill Paxton has taken the true story of the 19...          1\n",
       "5  I saw this film on September 1st, 2005 in Indi...          1\n",
       "6  Maybe I'm reading into this too much, but I wo...          1\n",
       "7  I felt this film did have many good qualities....          1\n",
       "8  This movie is amazing because the fact that th...          1\n",
       "9  \"Quitting\" may be as much about exiting a pre-...          1"
      ]
     },
     "execution_count": 13,
     "metadata": {
      "tags": []
     },
     "output_type": "execute_result"
    }
   ],
   "source": [
    "df = pd.read_csv(\"/content/drive/MyDrive/Sentiment-Analysis-Model/IMDB_reviews.csv\", \n",
    "                 encoding='utf-8')\n",
    "df.head(10)"
   ]
  },
  {
   "cell_type": "markdown",
   "metadata": {
    "id": "le8KY-KNKHR2"
   },
   "source": [
    "## Data Preprocessing"
   ]
  },
  {
   "cell_type": "code",
   "execution_count": 29,
   "metadata": {
    "id": "MHbNcNJ-KHR3"
   },
   "outputs": [],
   "source": [
    "import string\n",
    "from nltk.tokenize import word_tokenize\n",
    "from nltk.corpus import stopwords\n",
    "\n",
    "reviews_lines = list() # Initialize an empty list\n",
    "lines = df[\"review\"].values.tolist() # get list of reviews from review column in dataset\n",
    "\n",
    "#Loop through each of the review in the lines list\n",
    "for line in lines:\n",
    "  tokens=word_tokenize(line)  #tokenize each review\n",
    "  #normalization - loop through each word and lowercase them\n",
    "  tokens=[word.lower() for word in tokens]\n",
    "  #remove punctuation from the string\n",
    "  table=str.maketrans('','',string.punctuation)\n",
    "  stripped=[w.translate(table) for w in tokens]\n",
    "  #remove all the tokens which are not alphhabetic\n",
    "  words=[word for word in stripped if word.isalpha()]\n",
    "  #filter out the stop words\n",
    "  stop_words=set(stopwords.words('english')) #set so as duplicates are deleted\n",
    "  words=[w for w in words if not w in stop_words] #filter out stopwrods from words as well\n",
    "  #fill all these words to our review_lines list\n",
    "  reviews_lines.append(words)"
   ]
  },
  {
   "cell_type": "code",
   "execution_count": 30,
   "metadata": {
    "colab": {
     "base_uri": "https://localhost:8080/"
    },
    "id": "-nsqxdGZKHR3",
    "outputId": "b575b7f8-90f3-45d7-ff9d-a9b655b520f1"
   },
   "outputs": [
    {
     "name": "stdout",
     "output_type": "stream",
     "text": [
      "Vocabulary Size: 134156\n"
     ]
    }
   ],
   "source": [
    "EMBEDDING_DIM=100\n",
    "#define the Word2Vec model\n",
    "model=Word2Vec(sentences=reviews_lines, size=EMBEDDING_DIM, window=5, min_count=1)\n",
    "#Check the vocabulary size\n",
    "words=list(model.wv.vocab)\n",
    "print(\"Vocabulary Size: %d\" % len(words))"
   ]
  },
  {
   "cell_type": "markdown",
   "metadata": {
    "id": "Rru8oipFKHR4"
   },
   "source": [
    "Lets test our Word2Vec Model to see how it performs using utility functions provided in Gensim"
   ]
  },
  {
   "cell_type": "code",
   "execution_count": 31,
   "metadata": {
    "colab": {
     "base_uri": "https://localhost:8080/"
    },
    "id": "IJU_snZJKHR4",
    "outputId": "156706fa-338d-4de6-82d8-f7f0b2e8f42f"
   },
   "outputs": [
    {
     "name": "stderr",
     "output_type": "stream",
     "text": [
      "/usr/local/lib/python3.6/dist-packages/gensim/matutils.py:737: FutureWarning: Conversion of the second argument of issubdtype from `int` to `np.signedinteger` is deprecated. In future, it will be treated as `np.int64 == np.dtype(int).type`.\n",
      "  if np.issubdtype(vec.dtype, np.int):\n"
     ]
    },
    {
     "data": {
      "text/plain": [
       "[('filmmaker', 0.7517985105514526),\n",
       " ('screenwriter', 0.6736822128295898),\n",
       " ('writerdirector', 0.6689409017562866),\n",
       " ('directors', 0.6473158001899719),\n",
       " ('writer', 0.618447482585907),\n",
       " ('altman', 0.6026250123977661),\n",
       " ('vipul', 0.6006599068641663),\n",
       " ('editor', 0.599696159362793),\n",
       " ('directorial', 0.5992975831031799),\n",
       " ('harlin', 0.5977598428726196)]"
      ]
     },
     "execution_count": 31,
     "metadata": {
      "tags": []
     },
     "output_type": "execute_result"
    }
   ],
   "source": [
    "model.wv.most_similar(\"director\")"
   ]
  },
  {
   "cell_type": "markdown",
   "metadata": {
    "id": "LvqXi4pAKHR4"
   },
   "source": [
    "Let’s see the result of semantically reasonable word vectors (actress - actor + heroine)\n"
   ]
  },
  {
   "cell_type": "code",
   "execution_count": 32,
   "metadata": {
    "colab": {
     "base_uri": "https://localhost:8080/"
    },
    "id": "S9608mmaKHR4",
    "outputId": "64ea7780-fdf0-4601-a3d9-a82360abfd76"
   },
   "outputs": [
    {
     "name": "stderr",
     "output_type": "stream",
     "text": [
      "/usr/local/lib/python3.6/dist-packages/gensim/matutils.py:737: FutureWarning: Conversion of the second argument of issubdtype from `int` to `np.signedinteger` is deprecated. In future, it will be treated as `np.int64 == np.dtype(int).type`.\n",
      "  if np.issubdtype(vec.dtype, np.int):\n"
     ]
    },
    {
     "data": {
      "text/plain": [
       "[('sexually', 0.7284572124481201),\n",
       " ('nurse', 0.7118648290634155),\n",
       " ('stepmother', 0.7097549438476562),\n",
       " ('protagonist', 0.6994047164916992),\n",
       " ('vulnerable', 0.6917494535446167),\n",
       " ('attraction', 0.6912575960159302),\n",
       " ('housewife', 0.6845434308052063),\n",
       " ('blonde', 0.673975944519043),\n",
       " ('seductive', 0.6690043807029724),\n",
       " ('jealousy', 0.6687324047088623)]"
      ]
     },
     "execution_count": 32,
     "metadata": {
      "tags": []
     },
     "output_type": "execute_result"
    }
   ],
   "source": [
    "model.wv.most_similar(positive=[\"actress\", \"heroine\"], negative=[\"actor\"])"
   ]
  },
  {
   "cell_type": "markdown",
   "metadata": {
    "id": "7hZcCTuQKHR5"
   },
   "source": [
    "**Odd One out** - Finding the odd word out of the given list of words"
   ]
  },
  {
   "cell_type": "code",
   "execution_count": 33,
   "metadata": {
    "colab": {
     "base_uri": "https://localhost:8080/"
    },
    "id": "MKgu2QiMKHR5",
    "outputId": "35c21767-5aca-46c0-c20c-ea962d5ae8bc"
   },
   "outputs": [
    {
     "name": "stdout",
     "output_type": "stream",
     "text": [
      "tea\n"
     ]
    },
    {
     "name": "stderr",
     "output_type": "stream",
     "text": [
      "/usr/local/lib/python3.6/dist-packages/gensim/models/keyedvectors.py:895: FutureWarning: arrays to stack must be passed as a \"sequence\" type such as list or tuple. Support for non-sequence iterables such as generators is deprecated as of NumPy 1.16 and will raise an error in the future.\n",
      "  vectors = vstack(self.word_vec(word, use_norm=True) for word in used_words).astype(REAL)\n",
      "/usr/local/lib/python3.6/dist-packages/gensim/matutils.py:737: FutureWarning: Conversion of the second argument of issubdtype from `int` to `np.signedinteger` is deprecated. In future, it will be treated as `np.int64 == np.dtype(int).type`.\n",
      "  if np.issubdtype(vec.dtype, np.int):\n"
     ]
    }
   ],
   "source": [
    "print(model.wv.doesnt_match(\"film movie theatre tea\".split()))"
   ]
  },
  {
   "cell_type": "markdown",
   "metadata": {
    "id": "UMFkEJSbKHR5"
   },
   "source": [
    "## Save model in ASCII (word2vec) format"
   ]
  },
  {
   "cell_type": "code",
   "execution_count": 34,
   "metadata": {
    "id": "GS_7JPC3KHR5"
   },
   "outputs": [],
   "source": [
    "filename=\"imdb_embedding_word2vec.txt\"\n",
    "model.wv.save_word2vec_format(filename, binary=False)"
   ]
  },
  {
   "cell_type": "markdown",
   "metadata": {
    "id": "BG7EskZNKHR5"
   },
   "source": [
    "## Load the embeddings from the file into a dictionary"
   ]
  },
  {
   "cell_type": "code",
   "execution_count": 35,
   "metadata": {
    "id": "b_HNH4DuKHR6"
   },
   "outputs": [],
   "source": [
    "import  os\n",
    "embeddings_index={}\n",
    "f = open(\"imdb_embedding_word2vec.txt\", encoding='utf-8')\n",
    "for line in f:\n",
    "  values=line.split()\n",
    "  word=values[0]\n",
    "  coefs=np.asarray(values[1:])\n",
    "  embeddings_index[word]=coefs\n",
    "\n",
    "f.close()"
   ]
  },
  {
   "cell_type": "code",
   "execution_count": 36,
   "metadata": {
    "colab": {
     "base_uri": "https://localhost:8080/"
    },
    "id": "Ttz67LRrKHR6",
    "outputId": "d26bdbec-2116-400c-8d45-5ec613494108"
   },
   "outputs": [
    {
     "name": "stdout",
     "output_type": "stream",
     "text": [
      "(50000, 100)\n",
      "(50000,)\n"
     ]
    }
   ],
   "source": [
    "from tensorflow.python.keras.preprocessing.text import Tokenizer\n",
    "from tensorflow.python.keras.preprocessing.sequence import pad_sequences\n",
    "import numpy as np\n",
    "\n",
    "VALIDATION_SPLIT = 0.2\n",
    "\n",
    "tokenizer_obj=Tokenizer()\n",
    "tokenizer_obj.fit_on_texts(reviews_lines)\n",
    "sequences = tokenizer_obj.texts_to_sequences(reviews_lines)\n",
    "\n",
    "max_length=100\n",
    "word_index=tokenizer_obj.word_index\n",
    "\n",
    "review_pad=pad_sequences(sequences, maxlen=max_length)\n",
    "sentiment=df[\"sentiment\"].values\n",
    "\n",
    "print(review_pad.shape)\n",
    "print(sentiment.shape)\n",
    "                                  "
   ]
  },
  {
   "cell_type": "code",
   "execution_count": 41,
   "metadata": {
    "id": "S-eIXOZ0gaiG"
   },
   "outputs": [],
   "source": [
    "indices=np.arange(review_pad.shape[0])\n",
    "np.random.shuffle(indices)\n",
    "review_pad=review_pad[indices]\n",
    "sentiment=sentiment[indices]\n",
    "num_validation_samples=int(VALIDATION_SPLIT*review_pad.shape[0])\n",
    "\n",
    "X_val_pad=review_pad[:num_validation_samples]\n",
    "y_val=sentiment[:num_validation_samples]\n",
    "X_train_pad=review_pad[num_validation_samples:]\n",
    "y_train=sentiment[num_validation_samples:]"
   ]
  },
  {
   "cell_type": "markdown",
   "metadata": {
    "id": "uee22F7ZKHR6"
   },
   "source": [
    "## Splitting Train data further into Train & Test Sets"
   ]
  },
  {
   "cell_type": "code",
   "execution_count": 42,
   "metadata": {
    "id": "YV--HKcmKHR7"
   },
   "outputs": [],
   "source": [
    "TEST_SPLIT = 0.1\n",
    "\n",
    "num_test_samples = int(TEST_SPLIT * X_train_pad.shape[0])\n",
    "\n",
    "X_test_pad = X_train_pad[:num_test_samples]\n",
    "y_test = y_train[:num_test_samples]\n",
    "X_train_pad = X_train_pad[num_test_samples:]\n",
    "y_train = y_train[num_test_samples:]"
   ]
  },
  {
   "cell_type": "code",
   "execution_count": 43,
   "metadata": {
    "colab": {
     "base_uri": "https://localhost:8080/"
    },
    "id": "ET5OgkfkKHR7",
    "outputId": "fb4e9858-2e08-4dc8-8336-b206d74ccdd4"
   },
   "outputs": [
    {
     "name": "stdout",
     "output_type": "stream",
     "text": [
      "(36000, 100)\n",
      "(36000,)\n",
      "(10000, 100)\n",
      "(10000,)\n",
      "(4000, 100)\n",
      "(4000,)\n"
     ]
    }
   ],
   "source": [
    "print(X_train_pad.shape)\n",
    "print(y_train.shape)\n",
    "\n",
    "print(X_val_pad.shape)\n",
    "print(y_val.shape)\n",
    "\n",
    "print(X_test_pad.shape)\n",
    "print(y_test.shape)"
   ]
  },
  {
   "cell_type": "markdown",
   "metadata": {
    "id": "jj3FYXIsKHR7"
   },
   "source": [
    "## Creating an Embedding Matrix"
   ]
  },
  {
   "cell_type": "code",
   "execution_count": 46,
   "metadata": {
    "id": "sf_PAsx7KHR7"
   },
   "outputs": [],
   "source": [
    "EMBEDDING_DIM=100\n",
    "num_words = len(word_index)+1\n",
    "embedding_matrix=np.zeros((num_words,EMBEDDING_DIM))\n",
    "\n",
    "for word, i in word_index.items():\n",
    "  if i>num_words:\n",
    "    continue\n",
    "  embedding_vector=embeddings_index.get(word)\n",
    "  if embedding_vector is not None:\n",
    "    embedding_matrix[i]=embedding_vector"
   ]
  },
  {
   "cell_type": "markdown",
   "metadata": {
    "id": "DwgLZx8EKHR7"
   },
   "source": [
    "## Training "
   ]
  },
  {
   "cell_type": "code",
   "execution_count": 53,
   "metadata": {
    "colab": {
     "base_uri": "https://localhost:8080/"
    },
    "id": "cB9z8ZA0KHR7",
    "outputId": "d353d538-c3ea-4701-f59d-ae3f73e21fb9"
   },
   "outputs": [
    {
     "name": "stdout",
     "output_type": "stream",
     "text": [
      "WARNING:tensorflow:Layer lstm_5 will not use cuDNN kernel since it doesn't meet the cuDNN kernel criteria. It will use generic GPU kernel as fallback when running on GPU\n",
      "Summary of the built model..\n",
      "Model: \"sequential_5\"\n",
      "_________________________________________________________________\n",
      "Layer (type)                 Output Shape              Param #   \n",
      "=================================================================\n",
      "embedding_5 (Embedding)      (None, 100, 100)          13415700  \n",
      "_________________________________________________________________\n",
      "lstm_5 (LSTM)                (None, 32)                17024     \n",
      "_________________________________________________________________\n",
      "dense_5 (Dense)              (None, 1)                 33        \n",
      "=================================================================\n",
      "Total params: 13,432,757\n",
      "Trainable params: 17,057\n",
      "Non-trainable params: 13,415,700\n",
      "_________________________________________________________________\n",
      "None\n"
     ]
    }
   ],
   "source": [
    "#Model Definition\n",
    "\n",
    "from keras.models import Sequential\n",
    "from keras.layers import Dense, Embedding, LSTM\n",
    "from keras.layers.embeddings import Embedding\n",
    "from keras.initializers import Constant\n",
    "\n",
    "model=Sequential()\n",
    "embedding_layer=Embedding(num_words, EMBEDDING_DIM, embeddings_initializer=Constant(embedding_matrix),\n",
    "                          input_length=max_length, trainable=False)\n",
    "model.add(embedding_layer)\n",
    "model.add(LSTM(units=32, dropout=0.2, recurrent_dropout=0.2))\n",
    "model.add(Dense(1, activation='sigmoid'))\n",
    "\n",
    "model.compile(loss='binary_crossentropy', optimizer='adam', metrics=['accuracy'])\n",
    "print('Summary of the built model..')\n",
    "print(model.summary())"
   ]
  },
  {
   "cell_type": "markdown",
   "metadata": {
    "id": "R_lCK8X2KHR8"
   },
   "source": [
    "## Training the Model"
   ]
  },
  {
   "cell_type": "code",
   "execution_count": 54,
   "metadata": {
    "colab": {
     "base_uri": "https://localhost:8080/"
    },
    "id": "XoN8kd2dKHR8",
    "outputId": "188998f4-e554-4b3b-eaea-a650502b950d"
   },
   "outputs": [
    {
     "name": "stdout",
     "output_type": "stream",
     "text": [
      "Epoch 1/10\n",
      "282/282 - 88s - loss: 0.4776 - accuracy: 0.7717 - val_loss: 0.3883 - val_accuracy: 0.8257\n",
      "Epoch 2/10\n",
      "282/282 - 88s - loss: 0.3787 - accuracy: 0.8337 - val_loss: 0.3812 - val_accuracy: 0.8307\n",
      "Epoch 3/10\n",
      "282/282 - 88s - loss: 0.3489 - accuracy: 0.8459 - val_loss: 0.3324 - val_accuracy: 0.8529\n",
      "Epoch 4/10\n",
      "282/282 - 92s - loss: 0.3313 - accuracy: 0.8526 - val_loss: 0.3174 - val_accuracy: 0.8588\n",
      "Epoch 5/10\n",
      "282/282 - 91s - loss: 0.3156 - accuracy: 0.8639 - val_loss: 0.3156 - val_accuracy: 0.8616\n",
      "Epoch 6/10\n",
      "282/282 - 91s - loss: 0.3098 - accuracy: 0.8641 - val_loss: 0.3230 - val_accuracy: 0.8610\n",
      "Epoch 7/10\n",
      "282/282 - 92s - loss: 0.3005 - accuracy: 0.8706 - val_loss: 0.3146 - val_accuracy: 0.8648\n",
      "Epoch 8/10\n",
      "282/282 - 91s - loss: 0.2941 - accuracy: 0.8730 - val_loss: 0.3012 - val_accuracy: 0.8682\n",
      "Epoch 9/10\n",
      "282/282 - 91s - loss: 0.2894 - accuracy: 0.8768 - val_loss: 0.3044 - val_accuracy: 0.8681\n",
      "Epoch 10/10\n",
      "282/282 - 92s - loss: 0.2843 - accuracy: 0.8781 - val_loss: 0.2942 - val_accuracy: 0.8724\n"
     ]
    }
   ],
   "source": [
    "history=model.fit(X_train_pad,y_train,batch_size=128, epochs=10,\n",
    "                  validation_data=(X_val_pad,y_val), verbose=2)"
   ]
  },
  {
   "cell_type": "markdown",
   "metadata": {
    "id": "wYoo4PkTKHR8"
   },
   "source": [
    "## Evaluating the Model on Test Set\n"
   ]
  },
  {
   "cell_type": "code",
   "execution_count": 60,
   "metadata": {
    "colab": {
     "base_uri": "https://localhost:8080/"
    },
    "id": "Dxv0YS48KHR8",
    "outputId": "29d0c6f8-555a-4c0c-952a-3c2626ccdf68"
   },
   "outputs": [
    {
     "name": "stdout",
     "output_type": "stream",
     "text": [
      "32/32 [==============================] - 1s 28ms/step - loss: 0.2868 - accuracy: 0.8798\n",
      "Test Score: 0.28682342171669006\n",
      "Test Accuracy: 0.8797500133514404\n"
     ]
    }
   ],
   "source": [
    "score, acc = model.evaluate(X_test_pad, y_test, batch_size=128)\n",
    "print(\"Test Score:\", score)\n",
    "print(\"Test Accuracy:\", acc)"
   ]
  },
  {
   "cell_type": "markdown",
   "metadata": {
    "id": "Tv3LZnAYKHR9"
   },
   "source": [
    "## Plotting the Accuracy and Loss "
   ]
  },
  {
   "cell_type": "code",
   "execution_count": 62,
   "metadata": {
    "colab": {
     "base_uri": "https://localhost:8080/",
     "height": 590
    },
    "id": "1uKf28xqKHR9",
    "outputId": "9b3a7363-aa18-439c-f48b-df51c79aea30"
   },
   "outputs": [
    {
     "name": "stdout",
     "output_type": "stream",
     "text": [
      "dict_keys(['loss', 'accuracy', 'val_loss', 'val_accuracy'])\n"
     ]
    },
    {
     "data": {
      "image/png": "[encoded data removed]",
      "text/plain": [
       "<Figure size 432x288 with 1 Axes>"
      ]
     },
     "metadata": {
      "needs_background": "light",
      "tags": []
     },
     "output_type": "display_data"
    },
    {
     "data": {
      "image/png": "[encoded data removed]",
      "text/plain": [
       "<Figure size 432x288 with 1 Axes>"
      ]
     },
     "metadata": {
      "needs_background": "light",
      "tags": []
     },
     "output_type": "display_data"
    }
   ],
   "source": [
    "print(history.history.keys())\n",
    "\n",
    "#accuracy plot\n",
    "plt.plot(history.history[\"accuracy\"])\n",
    "plt.plot(history.history[\"val_accuracy\"])\n",
    "plt.title(\"model_accuracy\")\n",
    "plt.ylabel(\"accuracy\")\n",
    "plt.xlabel(\"epoch\")\n",
    "plt.legend([\"train\",\"validation\"], loc=\"upper left\")\n",
    "plt.show()\n",
    "\n",
    "#loss plot\n",
    "plt.plot(history.history[\"loss\"])\n",
    "plt.plot(history.history[\"val_loss\"])\n",
    "plt.title(\"model_loss\")\n",
    "plt.ylabel(\"loss\")\n",
    "plt.xlabel(\"epoch\")\n",
    "plt.legend([\"train\",\"validation\"], loc=\"upper left\")\n",
    "plt.show()"
   ]
  },
  {
   "cell_type": "markdown",
   "metadata": {
    "id": "HSwhbpDcKHR9"
   },
   "source": [
    "## Testing the Model on Sample data\n"
   ]
  },
  {
   "cell_type": "code",
   "execution_count": 68,
   "metadata": {
    "colab": {
     "base_uri": "https://localhost:8080/"
    },
    "id": "onhpfLkHKHR9",
    "outputId": "d3491ab6-166d-46e4-ab55-6685447464a1"
   },
   "outputs": [
    {
     "data": {
      "text/plain": [
       "array([[0.9254662 ],\n",
       "       [0.00304869]], dtype=float32)"
      ]
     },
     "execution_count": 68,
     "metadata": {
      "tags": []
     },
     "output_type": "execute_result"
    }
   ],
   "source": [
    "test_sample_1 = \"What a fantastic Movie it was! Wow!!\"\n",
    "test_sample_2 = \"What a crap Movie it was! total waste of time and money!!\"\n",
    "\n",
    "test_samples = [test_sample_1, test_sample_2]\n",
    "\n",
    "test_samples_tokens = tokenizer_obj.texts_to_sequences(test_samples)\n",
    "test_samples_tokens_pad = pad_sequences(test_samples_tokens, maxlen=100)\n",
    "\n",
    "#model prediction\n",
    "model.predict(test_samples_tokens_pad)"
   ]
  }
 ],
 "metadata": {
  "accelerator": "GPU",
  "colab": {
   "collapsed_sections": [],
   "name": "Text-Classification-Using-Word2Vec-and-LSTMs-on-Keras.ipynb",
   "provenance": [],
   "toc_visible": true
  },
  "kernelspec": {
   "display_name": "Python 3",
   "language": "python",
   "name": "python3"
  },
  "language_info": {
   "codemirror_mode": {
    "name": "ipython",
    "version": 3
   },
   "file_extension": ".py",
   "mimetype": "text/x-python",
   "name": "python",
   "nbconvert_exporter": "python",
   "pygments_lexer": "ipython3",
   "version": "3.7.7"
  }
 },
 "nbformat": 4,
 "nbformat_minor": 1
}
